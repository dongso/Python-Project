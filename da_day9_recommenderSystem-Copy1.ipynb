{
 "cells": [
  {
   "cell_type": "code",
   "execution_count": 63,
   "metadata": {},
   "outputs": [
    {
     "name": "stderr",
     "output_type": "stream",
     "text": [
      "UsageError: Line magic function `%matplotlib.rcParams` not found.\n"
     ]
    }
   ],
   "source": [
    "from math import sqrt\n",
    "import matplotlib.pyplot as plt\n",
    "\n",
    "if platform.system()==\"Windows\":\n",
    "    font_name=font_manager.FontProperties(fname=\"c:/Windows/Fonts/malgun.ttf\").get_name()\n",
    "    rc('font', family=font_name)\n",
    "%matplotlib.rcParams['axes.unicode_minus']=False"
   ]
  },
  {
   "cell_type": "code",
   "execution_count": 10,
   "metadata": {},
   "outputs": [
    {
     "data": {
      "text/plain": [
       "{'BTS': {'생일': 5, '바울': 4, '할로윈': 1.5},\n",
       " '손흥민': {'바울': 5, '할로윈': 2},\n",
       " '조용필': {'생일': 2.5, '바울': 2, '할로윈': 1},\n",
       " '나훈아': {'바울': 4, '생일': 3.5, '할로윈': 5}}"
      ]
     },
     "execution_count": 10,
     "metadata": {},
     "output_type": "execute_result"
    }
   ],
   "source": [
    "critics={\n",
    "    'BTS':{'생일':5, '바울':4, '할로윈':1.5},\n",
    "    '손흥민':{'바울':5, '할로윈':2},\n",
    "    '조용필':{'생일':2.5, '바울':2, '할로윈':1},\n",
    "    '나훈아':{'바울':4, '생일':3.5, '할로윈':5}\n",
    "}\n",
    "critics"
   ]
  },
  {
   "cell_type": "code",
   "execution_count": 11,
   "metadata": {},
   "outputs": [
    {
     "data": {
      "text/plain": [
       "1.5"
      ]
     },
     "execution_count": 11,
     "metadata": {},
     "output_type": "execute_result"
    }
   ],
   "source": [
    "#collaborative filtering(cf) :: 여러 사람들로부터 얻은 정보에 따라 각각의 사용자들의 관심사를 자동으로 예측.\n",
    "#데이터의 양이 적을 때 -> item 기반 필터링 // 데이터의 양이 많을 때 -> 사용자기반 필터링\n",
    "\n",
    "#critics에서 '손흥민'이 영화 '생일'을 관람한 후 에 평점을 얼마나 줄건지를 예측해 보자\n",
    "#(사용자 기반 cf을 사용해보자!)\n",
    "critics.get(\"BTS\") \n",
    "# key가 존재하면 critics['BTS']와 같은 결과가 나옴\n",
    "# key가 존재하지 않는다면 critics['AOA']를 했을 때는 오류가 발생하지만, \n",
    "#critics.get('AOA')를 한다면 None이 Return 되고 오류는 발생하지 않는다.\n",
    "\n",
    "critics.get(\"BTS\").get('할로윈')"
   ]
  },
  {
   "cell_type": "code",
   "execution_count": 12,
   "metadata": {},
   "outputs": [],
   "source": [
    "def sim(i,j):\n",
    "    #점의 위치를 받아서 거리를 계산해서 리턴\n",
    "    return sqrt(pow(i,2)+pow(j,2))"
   ]
  },
  {
   "cell_type": "code",
   "execution_count": 13,
   "metadata": {},
   "outputs": [
    {
     "name": "stdout",
     "output_type": "stream",
     "text": [
      "2.0615528128088303\n",
      "1.118033988749895\n",
      "3.1622776601683795\n",
      "3.1622776601683795\n"
     ]
    }
   ],
   "source": [
    "#두 사람간의 유사도를 구하기 위해서 거리를 구해야 한다.\n",
    "#피타고라스 정리를 사용\n",
    "#거리가 작을 수록 유사도가 높다(점의 위치가 가깝다는 의미)\n",
    "#!) (x1,y1), (x2,y2)\n",
    "#distance = sqrt((x1-x2)^2 + (y1-y2)^2)\n",
    "\n",
    "x=pow((critics.get('BTS').get('할로윈') - critics.get('조용필').get('할로윈')),2)\n",
    "y=pow((critics.get('BTS').get('바울') - critics.get('조용필').get('바울')),2)\n",
    "d=sqrt(x+y)\n",
    "\n",
    "print(d)\n",
    "\n",
    "var1=critics.get('BTS').get('바울') - critics.get('손흥민').get('바울')\n",
    "var2=critics.get('BTS').get('할로윈') - critics.get('손흥민').get('할로윈')\n",
    "\n",
    "print(sim(var1,var2))\n",
    "\n",
    "var1=critics.get('조용필').get('바울') - critics.get('손흥민').get('바울')\n",
    "var2=critics.get('조용필').get('할로윈') - critics.get('손흥민').get('할로윈')\n",
    "\n",
    "print(sim(var1,var2))\n",
    "\n",
    "var1=critics.get('나훈아').get('바울') - critics.get('손흥민').get('바울')\n",
    "var2=critics.get('나훈아').get('할로윈') - critics.get('손흥민').get('할로윈')\n",
    "\n",
    "print(sim(var1,var2))"
   ]
  },
  {
   "cell_type": "code",
   "execution_count": 14,
   "metadata": {},
   "outputs": [
    {
     "name": "stdout",
     "output_type": "stream",
     "text": [
      "BTS과 손흥민 간의 유사도(0:낮 ,1:높):  0.4721359549995794\n",
      "조용필과 손흥민 간의 유사도(0:낮 ,1:높):  0.2402530733520421\n",
      "나훈아과 손흥민 간의 유사도(0:낮 ,1:높):  0.2402530733520421\n"
     ]
    }
   ],
   "source": [
    "# var1=critics['나훈아']['바울']- critics['손흥민']['바울']\n",
    "# var2=critics['나훈아']['할로윈']- critics['손흥민']['할로윈']\n",
    "\n",
    "# print(sim(var1,var2))\n",
    "\n",
    "#손흥민과 다른 사람들과의 거리 구하기.\n",
    "for i in critics:\n",
    "    if i != '손흥민': #'본인인 손흥민은 제외시킴'\n",
    "        var1=critics[i]['바울']- critics['손흥민']['바울']\n",
    "        var2=critics[i]['할로윈']- critics['손흥민']['할로윈']\n",
    "        #print(\"%s과 손흥민 간의 거리: \"%i, sim(var1,var2))\n",
    "        print(\"%s과 손흥민 간의 유사도(0:낮 ,1:높): \"%i, 1/(1+sim(var1,var2))) #값이 클수록(1에 가까울 수록) 유사도가 높음을 표현.\n",
    "                "
   ]
  },
  {
   "cell_type": "markdown",
   "metadata": {},
   "source": [
    "    코사인 유사도 -> 자연어처리에서 많이 사용됨.\n",
    "    유클리안 거리 ->3차원 이상의 공간에서 거리를 구할때 사용"
   ]
  },
  {
   "cell_type": "code",
   "execution_count": 15,
   "metadata": {},
   "outputs": [
    {
     "data": {
      "text/plain": [
       "0.4721359549995794"
      ]
     },
     "execution_count": 15,
     "metadata": {},
     "output_type": "execute_result"
    }
   ],
   "source": [
    "def sim_distance(data, name1, name2):\n",
    "    sum=0\n",
    "    #유클리디안 거리를 계산해서 리턴\n",
    "    for i in data[name1] :#나훈아가 본 영화의 제목이 i에 들어감\n",
    "        if i in data[name2]: #나훈아도 보고, 조용필도 본 영화의 제목이 i에 들어감\n",
    "                            #같은 영화를 봤다면\n",
    "            sum+=pow(data[name1][i]-data[name2][i],2)  \n",
    "    \n",
    "    return 1/(1+sqrt(sum))\n",
    "\n",
    "sim_distance(critics,'나훈아','조용필')\n",
    "sim_distance(critics, '손흥민','BTS') #손흥민이 안본 영화는 계산에서 제외가 된다.\n",
    "\n",
    "\n",
    "#모든 조합을 만들어서 sim_distance를 돌리고 max()를 통해서\n",
    "#사람들 사이에서 가장 유사도가 높은 두사람을 뽑을 수 있다.\n"
   ]
  },
  {
   "cell_type": "code",
   "execution_count": 26,
   "metadata": {},
   "outputs": [
    {
     "data": {
      "text/plain": [
       "[(0.4721359549995794, 'BTS'),\n",
       " (0.2402530733520421, '조용필'),\n",
       " (0.2402530733520421, '나훈아')]"
      ]
     },
     "execution_count": 26,
     "metadata": {},
     "output_type": "execute_result"
    }
   ],
   "source": [
    "# 딕셔너리 전체에서 가장 유사도가 큰 사람을 검색\n",
    "# 상위 n명까지 출력해주는 함수(default : 3)\n",
    "def top_match(data, name, index=3, sf=sim_distance): #함수 이름을 변수에 저장해서 사용할 수 있다.\n",
    "    my_list=[]\n",
    "    for i in data:#i에는 이름이 저장됨\n",
    "        if name != i :\n",
    "            my_list.append((sf(data,name,i),i))\n",
    " \n",
    "    my_list.sort() #오름차순 정렬\n",
    "    my_list.reverse() #오름차순인 리스트를 reverse해서 내림차순으로 만들어줌.\n",
    "    \n",
    "    return my_list[:index]\n",
    "\n",
    "top_match(critics,'손흥민')\n",
    "#손흥민을 제외한 나머지 사람들과의 유사도를 출력(내림차순 정렬)#함수 call할때, sf에 대한 함수를 따로 지정해 주지 않으면 sim_distance를 호출해서 사용하면됨."
   ]
  },
  {
   "cell_type": "code",
   "execution_count": 92,
   "metadata": {},
   "outputs": [],
   "source": [
    "def myBar(x,y):\n",
    "    s=range(len(x))\n",
    "    plt.barh(y,x,height=0.3, color=\"darkred\")\n",
    "    #plt.yticks(s,y)\n",
    "    #plt.xticks(s,x)\n",
    "    plt.xlabel(\"sim\")\n",
    "    plt.ylabel('name')\n",
    "    plt.show()\n",
    "    return"
   ]
  },
  {
   "cell_type": "code",
   "execution_count": 93,
   "metadata": {},
   "outputs": [
    {
     "data": {
      "image/png": "[encoded data removed]",
      "text/plain": [
       "<Figure size 432x288 with 1 Axes>"
      ]
     },
     "metadata": {},
     "output_type": "display_data"
    }
   ],
   "source": [
    "#top_match의 수행결과를 시각화\n",
    "# x축에는 유사도, y축에는 이름, 수평 막대바도 출력\n",
    "\n",
    "li=top_match(critics,'손흥민')\n",
    "\n",
    "score=[]\n",
    "names=[]\n",
    "\n",
    "for s,n in li:\n",
    "    score.append(s)\n",
    "    names.append(n)\n",
    "    \n",
    "myBar(score,names)"
   ]
  },
  {
   "cell_type": "code",
   "execution_count": 105,
   "metadata": {},
   "outputs": [],
   "source": [
    "critics = {\n",
    "    '조용필': {\n",
    "        '택시운전사': 2.5,\n",
    "        '겨울왕국': 3.5,\n",
    "        '리빙라스베가스': 3.0,\n",
    "        '넘버3': 3.5,\n",
    "        '사랑과전쟁': 2.5,\n",
    "        '세계대전': 3.0,\n",
    "    },\n",
    "    'BTS': {\n",
    "        '택시운전사': 1.0,\n",
    "        '겨울왕국': 4.5,\n",
    "        '리빙라스베가스': 0.5,\n",
    "        '넘버3': 1.5,\n",
    "        '사랑과전쟁': 4.5,\n",
    "        '세계대전': 5.0,\n",
    "    },\n",
    "    '블핑': {\n",
    "        '택시운전사': 3.0,\n",
    "        '겨울왕국': 3.5,\n",
    "        '리빙라스베가스': 1.5,\n",
    "        '넘버3': 5.0,\n",
    "        '세계대전': 3.0,\n",
    "        '인어공주': 3.5,\n",
    "    },\n",
    "    '싸이': {\n",
    "        '택시운전사': 2.5,\n",
    "        '겨울왕국': 3.0,\n",
    "        '넘버3': 3.5,\n",
    "        '세계대전': 4.0,\n",
    "    },\n",
    "    '장범준': {\n",
    "        '겨울왕국': 3.5,\n",
    "        '리빙라스베가스': 3.0,\n",
    "        '세계대전': 4.5,\n",
    "        '넘버3': 4.0,\n",
    "        '사랑과전쟁': 2.5,\n",
    "    },\n",
    "    '있지': {\n",
    "        '택시운전사': 3.0,\n",
    "        '겨울왕국': 4.0,\n",
    "        '리빙라스베가스': 2.0,\n",
    "        '넘버3': 3.0,\n",
    "        '세계대전': 3.5,\n",
    "        '사랑과전쟁': 2.0,\n",
    "    },\n",
    "    '백지영': {\n",
    "        '택시운전사': 3.0,\n",
    "        '겨울왕국': 4.0,\n",
    "        '세계대전': 3.0,\n",
    "        '넘버3': 5.0,\n",
    "        '사랑과전쟁': 3.5,\n",
    "    },\n",
    "    '이은미': {'겨울왕국': 4.5, '사랑과전쟁': 1.0,\n",
    "             '넘버3': 4.0}}"
   ]
  },
  {
   "cell_type": "code",
   "execution_count": 104,
   "metadata": {},
   "outputs": [
    {
     "data": {
      "text/plain": [
       "[0, 6, 0, 5]"
      ]
     },
     "execution_count": 104,
     "metadata": {},
     "output_type": "execute_result"
    },
    {
     "data": {
      "image/png": "[encoded data removed]",
      "text/plain": [
       "<Figure size 1008x576 with 1 Axes>"
      ]
     },
     "metadata": {},
     "output_type": "display_data"
    }
   ],
   "source": [
    "plt.figure(figsize=(14,8))\n",
    "plt.plot([1,2,3],[1,2,3],'g^') #[x좌표의 위치]. [y좌표의 위치] ==> (1,1) (2,2) (3,3)\n",
    "plt.text(1,1,'홍길동1')\n",
    "plt.text(2,2,'홍길동2')\n",
    "plt.text(3,3,'홍길동3')\n",
    "\n",
    "plt.axis([0,6,0,5])"
   ]
  },
  {
   "cell_type": "code",
   "execution_count": 152,
   "metadata": {},
   "outputs": [],
   "source": [
    "# 딕셔너리 전체에서 가장 유사도가 큰 사람을 검색\n",
    "# 상위 n명까지 출력해주는 함수(default : 3)\n",
    "def top_match(data, name, index=3, sf=sim_distance): #함수 이름을 변수에 저장해서 사용할 수 있다.\n",
    "    my_list=[]\n",
    "    for i in data:#i에는 이름이 저장됨\n",
    "        if name != i :\n",
    "            my_list.append((sf(data,name,i),i))\n",
    " \n",
    "    my_list.sort() #오름차순 정렬\n",
    "    my_list.reverse() #오름차순인 리스트를 reverse해서 내림차순으로 만들어줌.\n",
    "    \n",
    "    return my_list[:index]\n",
    "\n",
    "#top_match(critics,'손흥민')\n",
    "#손흥민을 제외한 나머지 사람들과의 유사도를 출력(내림차순 정렬)#함수 call할때, sf에 대한 함수를 따로 지정해 주지 않으면 sim_distance를 호출해서 사용하면됨."
   ]
  },
  {
   "cell_type": "code",
   "execution_count": 115,
   "metadata": {},
   "outputs": [],
   "source": [
    "#두 사람의 영화 평점 데이터를 시각화(스캐터 플롯)\n",
    "def drawGraph(data,name1, name2):\n",
    "    plt.figure(figsize=(14,8))\n",
    "    li=[] #BTS 영화 평점을 저장하기 위한 리스트\n",
    "    li2=[] #블핑 영화 평점을 저장하기 위한 리스트\n",
    "    for i in data[name1]:\n",
    "        if i in data[name2]:#BTS가 본 영화 i가 블핑도 본 영화이면,\n",
    "            li.append(data[name1][i])\n",
    "            li2.append(data[name2][i])\n",
    "            plt.text(data[name1][i],data[name2][i],i)\n",
    "    plt.plot(li,li2,'ro')\n",
    "    plt.xlabel(name1)\n",
    "    plt.ylabel(name2)\n",
    "    \n",
    "    return"
   ]
  },
  {
   "cell_type": "code",
   "execution_count": 116,
   "metadata": {
    "collapsed": true
   },
   "outputs": [
    {
     "data": {
      "image/png": "[encoded data removed]",
      "text/plain": [
       "<Figure size 1008x576 with 1 Axes>"
      ]
     },
     "metadata": {},
     "output_type": "display_data"
    }
   ],
   "source": [
    "drawGraph(critics, \"BTS\",'블핑')"
   ]
  },
  {
   "cell_type": "code",
   "execution_count": 156,
   "metadata": {},
   "outputs": [],
   "source": [
    "#상관계수\n",
    "def sim_pearson(data, name1, name2):\n",
    "    sumX=0; sumY=0  #sumX : BTS 평점의 합, sumY: 블핑 평점의 합(둘다 관람한 영화만 해당됨.)\n",
    "    sumPowX=0; sumPowY=0 #sumXPow : BTS 평점 제곱의 합, sumPowY: 블핑 평점 제곱의 합\n",
    "    sumXY=0; cnt=0 #sumXY: X*Y의 합, cnt: 공통된 영화의 개수\n",
    "    \n",
    "    for i in data[name1]:\n",
    "        if i in data[name2]:\n",
    "            sumX+=data[name1][i]; sumY+=data[name2][i]\n",
    "            sumPowX+=pow(data[name1][i],2); sumPowY+=pow(data[name2][i],2)\n",
    "            sumXY+=data[name1][i] * data[name2][i]\n",
    "            cnt+=1\n",
    "            \n",
    "    res=(sumXY- ((sumX*sumY)/cnt)) / sqrt((sumPowX-(pow(sumX,2)/cnt))* (sumPowY-(pow(sumY,2)/cnt)))\n",
    "    #(sumXY-((sumX*sumY)/cnt)) / sqrt((sumPowX-pow(sumX,2)/cnt)*(sumPowY-pow(sumY,2)/cnt))\n",
    "    return res"
   ]
  },
  {
   "cell_type": "code",
   "execution_count": 155,
   "metadata": {
    "collapsed": true
   },
   "outputs": [
    {
     "data": {
      "text/plain": [
       "[(1.0, '장범준'),\n",
       " (0.5692099788303083, 'BTS'),\n",
       " (0.40451991747794525, '조용필'),\n",
       " (0.20459830184114206, '블핑'),\n",
       " (0.13483997249264842, '있지'),\n",
       " (0.13483997249264842, '백지영'),\n",
       " (-1.0, '이은미')]"
      ]
     },
     "execution_count": 155,
     "metadata": {},
     "output_type": "execute_result"
    }
   ],
   "source": [
    "top_match(critics,'싸이',7,sf=sim_pearson)"
   ]
  },
  {
   "cell_type": "markdown",
   "metadata": {},
   "source": [
    "#예상평점 = 상관계수 * 상대방의 평점\n",
    "\n",
    "ex. 상관계수 = 0.6 & 상대방의 x영화의 평점 = 4 ==> x영화에 대한 예상평점 : 2.4"
   ]
  },
  {
   "cell_type": "code",
   "execution_count": null,
   "metadata": {},
   "outputs": [],
   "source": [
    "#추천영화 뽑고, 예상 평점 계산하기."
   ]
  },
  {
   "cell_type": "code",
   "execution_count": null,
   "metadata": {},
   "outputs": [],
   "source": []
  },
  {
   "cell_type": "code",
   "execution_count": null,
   "metadata": {},
   "outputs": [],
   "source": []
  },
  {
   "cell_type": "code",
   "execution_count": null,
   "metadata": {},
   "outputs": [],
   "source": []
  },
  {
   "cell_type": "code",
   "execution_count": null,
   "metadata": {},
   "outputs": [],
   "source": []
  },
  {
   "cell_type": "code",
   "execution_count": null,
   "metadata": {},
   "outputs": [],
   "source": []
  },
  {
   "cell_type": "code",
   "execution_count": null,
   "metadata": {},
   "outputs": [],
   "source": []
  },
  {
   "cell_type": "code",
   "execution_count": null,
   "metadata": {},
   "outputs": [],
   "source": []
  },
  {
   "cell_type": "code",
   "execution_count": null,
   "metadata": {},
   "outputs": [],
   "source": []
  },
  {
   "cell_type": "code",
   "execution_count": null,
   "metadata": {},
   "outputs": [],
   "source": []
  },
  {
   "cell_type": "code",
   "execution_count": null,
   "metadata": {},
   "outputs": [],
   "source": []
  }
 ],
 "metadata": {
  "kernelspec": {
   "display_name": "Python 3",
   "language": "python",
   "name": "python3"
  },
  "language_info": {
   "codemirror_mode": {
    "name": "ipython",
    "version": 3
   },
   "file_extension": ".py",
   "mimetype": "text/x-python",
   "name": "python",
   "nbconvert_exporter": "python",
   "pygments_lexer": "ipython3",
   "version": "3.6.5"
  }
 },
 "nbformat": 4,
 "nbformat_minor": 2
}
