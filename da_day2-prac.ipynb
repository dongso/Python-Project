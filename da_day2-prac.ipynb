{
 "cells": [
  {
   "cell_type": "code",
   "execution_count": 3,
   "metadata": {},
   "outputs": [],
   "source": [
    "import pandas as pd\n",
    "%matplotlib inline \n",
    "import matplotlib.pyplot as plt"
   ]
  },
  {
   "cell_type": "code",
   "execution_count": 16,
   "metadata": {},
   "outputs": [
    {
     "data": {
      "text/plain": [
       "<matplotlib.axes._subplots.AxesSubplot at 0x15791c18d30>"
      ]
     },
     "execution_count": 16,
     "metadata": {},
     "output_type": "execute_result"
    },
    {
     "data": {
      "image/png": "[encoded data removed]",
      "text/plain": [
       "<Figure size 432x288 with 1 Axes>"
      ]
     },
     "metadata": {},
     "output_type": "display_data"
    }
   ],
   "source": [
    "aci=pd.read_csv(\"data/2016_car_accident_per_month.csv\", encoding='EUC-KR')\n",
    "gr=aci.groupby([\"월\"])[\"발생건수\"].mean()\n",
    "#월별 사고 발생건수의 시도 평균\n",
    "gr.plot()"
   ]
  },
  {
   "cell_type": "code",
   "execution_count": 40,
   "metadata": {},
   "outputs": [
    {
     "data": {
      "text/plain": [
       "상권업종소분류명  시도명    시군구명\n",
       "LPG판매     부산광역시  강서구      5\n",
       "                 금정구      7\n",
       "                 기장군      1\n",
       "                 남구      10\n",
       "                 동구       2\n",
       "                 동래구      7\n",
       "                 부산진구    11\n",
       "                 북구       3\n",
       "                 사상구      6\n",
       "                 사하구      7\n",
       "                 서구       1\n",
       "                 수영구      4\n",
       "                 연제구      9\n",
       "                 영도구      2\n",
       "                 중구       1\n",
       "                 해운대구     8\n",
       "          서울특별시  강남구      4\n",
       "                 강동구      1\n",
       "                 강북구      2\n",
       "                 강서구      1\n",
       "                 관악구      1\n",
       "                 구로구      2\n",
       "                 금천구      1\n",
       "                 노원구      2\n",
       "                 도봉구      1\n",
       "                 마포구      3\n",
       "                 서대문구     1\n",
       "                 서초구      1\n",
       "                 성동구      1\n",
       "                 양천구      1\n",
       "                         ..\n",
       "휴게텔       서울특별시  관악구     11\n",
       "                 광진구      8\n",
       "                 구로구      2\n",
       "                 금천구      5\n",
       "                 동대문구     3\n",
       "                 동작구      1\n",
       "                 서초구      2\n",
       "                 성북구      1\n",
       "                 송파구      1\n",
       "                 양천구      1\n",
       "                 영등포구     5\n",
       "                 종로구      1\n",
       "                 중구       1\n",
       "휴대폰튜닝     부산광역시  금정구      1\n",
       "                 남구       1\n",
       "                 부산진구     2\n",
       "                 사상구      1\n",
       "                 중구       4\n",
       "          서울특별시  강남구      3\n",
       "                 강동구      1\n",
       "                 강북구      1\n",
       "                 강서구      1\n",
       "                 관악구      5\n",
       "                 금천구      2\n",
       "                 마포구      1\n",
       "                 서초구      2\n",
       "                 성북구      1\n",
       "                 양천구      3\n",
       "                 은평구      2\n",
       "                 중랑구      1\n",
       "Name: 상가업소번호, Length: 17025, dtype: int64"
      ]
     },
     "execution_count": 40,
     "metadata": {},
     "output_type": "execute_result"
    }
   ],
   "source": [
    "infom=pd.read_csv(\"data/info_201812_1.csv\", encoding=\"euc-kr\")\n",
    "infom.head()\n",
    "services=infom.groupby([\"상권업종소분류명\",\"시도명\",\"시군구명\"])[\"상가업소번호\"].nunique()\n",
    "services"
   ]
  },
  {
   "cell_type": "code",
   "execution_count": null,
   "metadata": {},
   "outputs": [],
   "source": []
  }
 ],
 "metadata": {
  "kernelspec": {
   "display_name": "Python 3",
   "language": "python",
   "name": "python3"
  },
  "language_info": {
   "codemirror_mode": {
    "name": "ipython",
    "version": 3
   },
   "file_extension": ".py",
   "mimetype": "text/x-python",
   "name": "python",
   "nbconvert_exporter": "python",
   "pygments_lexer": "ipython3",
   "version": "3.6.5"
  }
 },
 "nbformat": 4,
 "nbformat_minor": 2
}
