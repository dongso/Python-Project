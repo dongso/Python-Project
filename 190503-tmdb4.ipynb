{
 "cells": [
  {
   "cell_type": "code",
   "execution_count": 1,
   "metadata": {},
   "outputs": [],
   "source": [
    "# Data Processing and Cleaning\n",
    "import numpy as np\n",
    "import pandas as pd\n",
    "\n",
    "# Data Visualization\n",
    "import matplotlib.pyplot as plt\n",
    "from mpl_toolkits.mplot3d import axes3d\n",
    "import seaborn as sns\n",
    "\n",
    "# Sklearn\n",
    "from sklearn.linear_model import LinearRegression\n",
    "from sklearn.ensemble import RandomForestRegressor\n",
    "from sklearn.preprocessing import LabelEncoder\n",
    "from sklearn.model_selection import train_test_split\n",
    "from sklearn.metrics import mean_squared_error\n",
    "\n",
    "# Input data files are available in the \"../input/\" directory.\n",
    "# For example, running this (by clicking run or pressing Shift+Enter) will list the files in the input directory\n",
    "\n",
    "import os\n",
    "#print(os.listdir(\"../input\"))\n",
    "\n",
    "# Any results you write to the current directory are saved as output.\n"
   ]
  },
  {
   "cell_type": "code",
   "execution_count": 2,
   "metadata": {},
   "outputs": [],
   "source": [
    "train = pd.read_csv('tmdb-box-office-prediction/train.csv')\n",
    "test = pd.read_csv('tmdb-box-office-prediction/test.csv')\n",
    "submission = pd.read_csv('tmdb-box-office-prediction/sample_submission.csv')"
   ]
  },
  {
   "cell_type": "code",
   "execution_count": 3,
   "metadata": {},
   "outputs": [
    {
     "data": {
      "text/html": [
       "<div>\n",
       "<style scoped>\n",
       "    .dataframe tbody tr th:only-of-type {\n",
       "        vertical-align: middle;\n",
       "    }\n",
       "\n",
       "    .dataframe tbody tr th {\n",
       "        vertical-align: top;\n",
       "    }\n",
       "\n",
       "    .dataframe thead th {\n",
       "        text-align: right;\n",
       "    }\n",
       "</style>\n",
       "<table border=\"1\" class=\"dataframe\">\n",
       "  <thead>\n",
       "    <tr style=\"text-align: right;\">\n",
       "      <th></th>\n",
       "      <th>0</th>\n",
       "      <th>1</th>\n",
       "      <th>2</th>\n",
       "    </tr>\n",
       "  </thead>\n",
       "  <tbody>\n",
       "    <tr>\n",
       "      <th>id</th>\n",
       "      <td>1</td>\n",
       "      <td>2</td>\n",
       "      <td>3</td>\n",
       "    </tr>\n",
       "    <tr>\n",
       "      <th>belongs_to_collection</th>\n",
       "      <td>[{'id': 313576, 'name': 'Hot Tub Time Machine ...</td>\n",
       "      <td>[{'id': 107674, 'name': 'The Princess Diaries ...</td>\n",
       "      <td>NaN</td>\n",
       "    </tr>\n",
       "    <tr>\n",
       "      <th>budget</th>\n",
       "      <td>14000000</td>\n",
       "      <td>40000000</td>\n",
       "      <td>3300000</td>\n",
       "    </tr>\n",
       "    <tr>\n",
       "      <th>genres</th>\n",
       "      <td>[{'id': 35, 'name': 'Comedy'}]</td>\n",
       "      <td>[{'id': 35, 'name': 'Comedy'}, {'id': 18, 'nam...</td>\n",
       "      <td>[{'id': 18, 'name': 'Drama'}]</td>\n",
       "    </tr>\n",
       "    <tr>\n",
       "      <th>homepage</th>\n",
       "      <td>NaN</td>\n",
       "      <td>NaN</td>\n",
       "      <td>http://sonyclassics.com/whiplash/</td>\n",
       "    </tr>\n",
       "    <tr>\n",
       "      <th>imdb_id</th>\n",
       "      <td>tt2637294</td>\n",
       "      <td>tt0368933</td>\n",
       "      <td>tt2582802</td>\n",
       "    </tr>\n",
       "    <tr>\n",
       "      <th>original_language</th>\n",
       "      <td>en</td>\n",
       "      <td>en</td>\n",
       "      <td>en</td>\n",
       "    </tr>\n",
       "    <tr>\n",
       "      <th>original_title</th>\n",
       "      <td>Hot Tub Time Machine 2</td>\n",
       "      <td>The Princess Diaries 2: Royal Engagement</td>\n",
       "      <td>Whiplash</td>\n",
       "    </tr>\n",
       "    <tr>\n",
       "      <th>overview</th>\n",
       "      <td>When Lou, who has become the \"father of the In...</td>\n",
       "      <td>Mia Thermopolis is now a college graduate and ...</td>\n",
       "      <td>Under the direction of a ruthless instructor, ...</td>\n",
       "    </tr>\n",
       "    <tr>\n",
       "      <th>popularity</th>\n",
       "      <td>6.57539</td>\n",
       "      <td>8.24889</td>\n",
       "      <td>64.3</td>\n",
       "    </tr>\n",
       "    <tr>\n",
       "      <th>poster_path</th>\n",
       "      <td>/tQtWuwvMf0hCc2QR2tkolwl7c3c.jpg</td>\n",
       "      <td>/w9Z7A0GHEhIp7etpj0vyKOeU1Wx.jpg</td>\n",
       "      <td>/lIv1QinFqz4dlp5U4lQ6HaiskOZ.jpg</td>\n",
       "    </tr>\n",
       "    <tr>\n",
       "      <th>production_companies</th>\n",
       "      <td>[{'name': 'Paramount Pictures', 'id': 4}, {'na...</td>\n",
       "      <td>[{'name': 'Walt Disney Pictures', 'id': 2}]</td>\n",
       "      <td>[{'name': 'Bold Films', 'id': 2266}, {'name': ...</td>\n",
       "    </tr>\n",
       "    <tr>\n",
       "      <th>production_countries</th>\n",
       "      <td>[{'iso_3166_1': 'US', 'name': 'United States o...</td>\n",
       "      <td>[{'iso_3166_1': 'US', 'name': 'United States o...</td>\n",
       "      <td>[{'iso_3166_1': 'US', 'name': 'United States o...</td>\n",
       "    </tr>\n",
       "    <tr>\n",
       "      <th>release_date</th>\n",
       "      <td>2/20/15</td>\n",
       "      <td>8/6/04</td>\n",
       "      <td>10/10/14</td>\n",
       "    </tr>\n",
       "    <tr>\n",
       "      <th>runtime</th>\n",
       "      <td>93</td>\n",
       "      <td>113</td>\n",
       "      <td>105</td>\n",
       "    </tr>\n",
       "    <tr>\n",
       "      <th>spoken_languages</th>\n",
       "      <td>[{'iso_639_1': 'en', 'name': 'English'}]</td>\n",
       "      <td>[{'iso_639_1': 'en', 'name': 'English'}]</td>\n",
       "      <td>[{'iso_639_1': 'en', 'name': 'English'}]</td>\n",
       "    </tr>\n",
       "    <tr>\n",
       "      <th>status</th>\n",
       "      <td>Released</td>\n",
       "      <td>Released</td>\n",
       "      <td>Released</td>\n",
       "    </tr>\n",
       "    <tr>\n",
       "      <th>tagline</th>\n",
       "      <td>The Laws of Space and Time are About to be Vio...</td>\n",
       "      <td>It can take a lifetime to find true love; she'...</td>\n",
       "      <td>The road to greatness can take you to the edge.</td>\n",
       "    </tr>\n",
       "    <tr>\n",
       "      <th>title</th>\n",
       "      <td>Hot Tub Time Machine 2</td>\n",
       "      <td>The Princess Diaries 2: Royal Engagement</td>\n",
       "      <td>Whiplash</td>\n",
       "    </tr>\n",
       "    <tr>\n",
       "      <th>Keywords</th>\n",
       "      <td>[{'id': 4379, 'name': 'time travel'}, {'id': 9...</td>\n",
       "      <td>[{'id': 2505, 'name': 'coronation'}, {'id': 42...</td>\n",
       "      <td>[{'id': 1416, 'name': 'jazz'}, {'id': 1523, 'n...</td>\n",
       "    </tr>\n",
       "    <tr>\n",
       "      <th>cast</th>\n",
       "      <td>[{'cast_id': 4, 'character': 'Lou', 'credit_id...</td>\n",
       "      <td>[{'cast_id': 1, 'character': 'Mia Thermopolis'...</td>\n",
       "      <td>[{'cast_id': 5, 'character': 'Andrew Neimann',...</td>\n",
       "    </tr>\n",
       "    <tr>\n",
       "      <th>crew</th>\n",
       "      <td>[{'credit_id': '59ac067c92514107af02c8c8', 'de...</td>\n",
       "      <td>[{'credit_id': '52fe43fe9251416c7502563d', 'de...</td>\n",
       "      <td>[{'credit_id': '54d5356ec3a3683ba0000039', 'de...</td>\n",
       "    </tr>\n",
       "    <tr>\n",
       "      <th>revenue</th>\n",
       "      <td>12314651</td>\n",
       "      <td>95149435</td>\n",
       "      <td>13092000</td>\n",
       "    </tr>\n",
       "  </tbody>\n",
       "</table>\n",
       "</div>"
      ],
      "text/plain": [
       "                                                                       0  \\\n",
       "id                                                                     1   \n",
       "belongs_to_collection  [{'id': 313576, 'name': 'Hot Tub Time Machine ...   \n",
       "budget                                                          14000000   \n",
       "genres                                    [{'id': 35, 'name': 'Comedy'}]   \n",
       "homepage                                                             NaN   \n",
       "imdb_id                                                        tt2637294   \n",
       "original_language                                                     en   \n",
       "original_title                                    Hot Tub Time Machine 2   \n",
       "overview               When Lou, who has become the \"father of the In...   \n",
       "popularity                                                       6.57539   \n",
       "poster_path                             /tQtWuwvMf0hCc2QR2tkolwl7c3c.jpg   \n",
       "production_companies   [{'name': 'Paramount Pictures', 'id': 4}, {'na...   \n",
       "production_countries   [{'iso_3166_1': 'US', 'name': 'United States o...   \n",
       "release_date                                                     2/20/15   \n",
       "runtime                                                               93   \n",
       "spoken_languages                [{'iso_639_1': 'en', 'name': 'English'}]   \n",
       "status                                                          Released   \n",
       "tagline                The Laws of Space and Time are About to be Vio...   \n",
       "title                                             Hot Tub Time Machine 2   \n",
       "Keywords               [{'id': 4379, 'name': 'time travel'}, {'id': 9...   \n",
       "cast                   [{'cast_id': 4, 'character': 'Lou', 'credit_id...   \n",
       "crew                   [{'credit_id': '59ac067c92514107af02c8c8', 'de...   \n",
       "revenue                                                         12314651   \n",
       "\n",
       "                                                                       1  \\\n",
       "id                                                                     2   \n",
       "belongs_to_collection  [{'id': 107674, 'name': 'The Princess Diaries ...   \n",
       "budget                                                          40000000   \n",
       "genres                 [{'id': 35, 'name': 'Comedy'}, {'id': 18, 'nam...   \n",
       "homepage                                                             NaN   \n",
       "imdb_id                                                        tt0368933   \n",
       "original_language                                                     en   \n",
       "original_title                  The Princess Diaries 2: Royal Engagement   \n",
       "overview               Mia Thermopolis is now a college graduate and ...   \n",
       "popularity                                                       8.24889   \n",
       "poster_path                             /w9Z7A0GHEhIp7etpj0vyKOeU1Wx.jpg   \n",
       "production_companies         [{'name': 'Walt Disney Pictures', 'id': 2}]   \n",
       "production_countries   [{'iso_3166_1': 'US', 'name': 'United States o...   \n",
       "release_date                                                      8/6/04   \n",
       "runtime                                                              113   \n",
       "spoken_languages                [{'iso_639_1': 'en', 'name': 'English'}]   \n",
       "status                                                          Released   \n",
       "tagline                It can take a lifetime to find true love; she'...   \n",
       "title                           The Princess Diaries 2: Royal Engagement   \n",
       "Keywords               [{'id': 2505, 'name': 'coronation'}, {'id': 42...   \n",
       "cast                   [{'cast_id': 1, 'character': 'Mia Thermopolis'...   \n",
       "crew                   [{'credit_id': '52fe43fe9251416c7502563d', 'de...   \n",
       "revenue                                                         95149435   \n",
       "\n",
       "                                                                       2  \n",
       "id                                                                     3  \n",
       "belongs_to_collection                                                NaN  \n",
       "budget                                                           3300000  \n",
       "genres                                     [{'id': 18, 'name': 'Drama'}]  \n",
       "homepage                               http://sonyclassics.com/whiplash/  \n",
       "imdb_id                                                        tt2582802  \n",
       "original_language                                                     en  \n",
       "original_title                                                  Whiplash  \n",
       "overview               Under the direction of a ruthless instructor, ...  \n",
       "popularity                                                          64.3  \n",
       "poster_path                             /lIv1QinFqz4dlp5U4lQ6HaiskOZ.jpg  \n",
       "production_companies   [{'name': 'Bold Films', 'id': 2266}, {'name': ...  \n",
       "production_countries   [{'iso_3166_1': 'US', 'name': 'United States o...  \n",
       "release_date                                                    10/10/14  \n",
       "runtime                                                              105  \n",
       "spoken_languages                [{'iso_639_1': 'en', 'name': 'English'}]  \n",
       "status                                                          Released  \n",
       "tagline                  The road to greatness can take you to the edge.  \n",
       "title                                                           Whiplash  \n",
       "Keywords               [{'id': 1416, 'name': 'jazz'}, {'id': 1523, 'n...  \n",
       "cast                   [{'cast_id': 5, 'character': 'Andrew Neimann',...  \n",
       "crew                   [{'credit_id': '54d5356ec3a3683ba0000039', 'de...  \n",
       "revenue                                                         13092000  "
      ]
     },
     "execution_count": 3,
     "metadata": {},
     "output_type": "execute_result"
    }
   ],
   "source": [
    "train.head(3).T"
   ]
  },
  {
   "cell_type": "code",
   "execution_count": 4,
   "metadata": {},
   "outputs": [
    {
     "data": {
      "text/plain": [
       "(3000, 23)"
      ]
     },
     "execution_count": 4,
     "metadata": {},
     "output_type": "execute_result"
    }
   ],
   "source": [
    "train.shape"
   ]
  },
  {
   "cell_type": "code",
   "execution_count": 5,
   "metadata": {},
   "outputs": [
    {
     "data": {
      "text/plain": [
       "(4398, 22)"
      ]
     },
     "execution_count": 5,
     "metadata": {},
     "output_type": "execute_result"
    }
   ],
   "source": [
    "test.shape"
   ]
  },
  {
   "cell_type": "code",
   "execution_count": 6,
   "metadata": {},
   "outputs": [],
   "source": [
    "test.loc[test['id'] == 3033,'budget'] = 250 \n",
    "test.loc[test['id'] == 3051,'budget'] = 50\n",
    "test.loc[test['id'] == 3084,'budget'] = 337\n",
    "test.loc[test['id'] == 3224,'budget'] = 4  \n",
    "test.loc[test['id'] == 3594,'budget'] = 25  \n",
    "test.loc[test['id'] == 3619,'budget'] = 500  \n",
    "test.loc[test['id'] == 3831,'budget'] = 3  \n",
    "test.loc[test['id'] == 3935,'budget'] = 500  \n",
    "test.loc[test['id'] == 4049,'budget'] = 995946 \n",
    "test.loc[test['id'] == 4424,'budget'] = 3  \n",
    "test.loc[test['id'] == 4460,'budget'] = 8  \n",
    "test.loc[test['id'] == 4555,'budget'] = 1200000 \n",
    "test.loc[test['id'] == 4624,'budget'] = 30 \n",
    "test.loc[test['id'] == 4645,'budget'] = 500 \n",
    "test.loc[test['id'] == 4709,'budget'] = 450 \n",
    "test.loc[test['id'] == 4839,'budget'] = 7\n",
    "test.loc[test['id'] == 3125,'budget'] = 25 \n",
    "test.loc[test['id'] == 3142,'budget'] = 1\n",
    "test.loc[test['id'] == 3201,'budget'] = 450\n",
    "test.loc[test['id'] == 3222,'budget'] = 6\n",
    "test.loc[test['id'] == 3545,'budget'] = 38\n",
    "test.loc[test['id'] == 3670,'budget'] = 18\n",
    "test.loc[test['id'] == 3792,'budget'] = 19\n",
    "test.loc[test['id'] == 3881,'budget'] = 7\n",
    "test.loc[test['id'] == 3969,'budget'] = 400\n",
    "test.loc[test['id'] == 4196,'budget'] = 6\n",
    "test.loc[test['id'] == 4221,'budget'] = 11\n",
    "test.loc[test['id'] == 4222,'budget'] = 500\n",
    "test.loc[test['id'] == 4285,'budget'] = 11\n",
    "test.loc[test['id'] == 4319,'budget'] = 1\n",
    "test.loc[test['id'] == 4639,'budget'] = 10\n",
    "test.loc[test['id'] == 4719,'budget'] = 45\n",
    "test.loc[test['id'] == 4822,'budget'] = 22\n",
    "test.loc[test['id'] == 4829,'budget'] = 20\n",
    "test.loc[test['id'] == 4969,'budget'] = 20\n",
    "test.loc[test['id'] == 5021,'budget'] = 40 \n",
    "test.loc[test['id'] == 5035,'budget'] = 1 \n",
    "test.loc[test['id'] == 5063,'budget'] = 14 \n",
    "test.loc[test['id'] == 5119,'budget'] = 2 \n",
    "test.loc[test['id'] == 5214,'budget'] = 30 \n",
    "test.loc[test['id'] == 5221,'budget'] = 50 \n",
    "test.loc[test['id'] == 4903,'budget'] = 15\n",
    "test.loc[test['id'] == 4983,'budget'] = 3\n",
    "test.loc[test['id'] == 5102,'budget'] = 28\n",
    "test.loc[test['id'] == 5217,'budget'] = 75\n",
    "test.loc[test['id'] == 5224,'budget'] = 3 \n",
    "test.loc[test['id'] == 5469,'budget'] = 20 \n",
    "test.loc[test['id'] == 5840,'budget'] = 1 \n",
    "test.loc[test['id'] == 5960,'budget'] = 30\n",
    "test.loc[test['id'] == 6506,'budget'] = 11 \n",
    "test.loc[test['id'] == 6553,'budget'] = 280\n",
    "test.loc[test['id'] == 6561,'budget'] = 7\n",
    "test.loc[test['id'] == 6582,'budget'] = 218\n",
    "test.loc[test['id'] == 6638,'budget'] = 5\n",
    "test.loc[test['id'] == 6749,'budget'] = 8 \n",
    "test.loc[test['id'] == 6759,'budget'] = 50 \n",
    "test.loc[test['id'] == 6856,'budget'] = 10\n",
    "test.loc[test['id'] == 6858,'budget'] =  100\n",
    "test.loc[test['id'] == 6876,'budget'] =  250\n",
    "test.loc[test['id'] == 6972,'budget'] = 1\n",
    "test.loc[test['id'] == 7079,'budget'] = 8000000\n",
    "test.loc[test['id'] == 7150,'budget'] = 118\n",
    "test.loc[test['id'] == 6506,'budget'] = 118\n",
    "test.loc[test['id'] == 7225,'budget'] = 6\n",
    "test.loc[test['id'] == 7231,'budget'] = 85\n",
    "test.loc[test['id'] == 5222,'budget'] = 5\n",
    "test.loc[test['id'] == 5322,'budget'] = 90\n",
    "test.loc[test['id'] == 5350,'budget'] = 70\n",
    "test.loc[test['id'] == 5378,'budget'] = 10\n",
    "test.loc[test['id'] == 5545,'budget'] = 80\n",
    "test.loc[test['id'] == 5810,'budget'] = 8\n",
    "test.loc[test['id'] == 5926,'budget'] = 300\n",
    "test.loc[test['id'] == 5927,'budget'] = 4\n",
    "test.loc[test['id'] == 5986,'budget'] = 1\n",
    "test.loc[test['id'] == 6053,'budget'] = 20\n",
    "test.loc[test['id'] == 6104,'budget'] = 1\n",
    "test.loc[test['id'] == 6130,'budget'] = 30\n",
    "test.loc[test['id'] == 6301,'budget'] = 150\n",
    "test.loc[test['id'] == 6276,'budget'] = 100\n",
    "test.loc[test['id'] == 6473,'budget'] = 100\n",
    "test.loc[test['id'] == 6842,'budget'] = 30"
   ]
  },
  {
   "cell_type": "code",
   "execution_count": 7,
   "metadata": {},
   "outputs": [
    {
     "data": {
      "text/html": [
       "<div>\n",
       "<style scoped>\n",
       "    .dataframe tbody tr th:only-of-type {\n",
       "        vertical-align: middle;\n",
       "    }\n",
       "\n",
       "    .dataframe tbody tr th {\n",
       "        vertical-align: top;\n",
       "    }\n",
       "\n",
       "    .dataframe thead th {\n",
       "        text-align: right;\n",
       "    }\n",
       "</style>\n",
       "<table border=\"1\" class=\"dataframe\">\n",
       "  <thead>\n",
       "    <tr style=\"text-align: right;\">\n",
       "      <th></th>\n",
       "      <th>id</th>\n",
       "      <th>belongs_to_collection</th>\n",
       "      <th>budget</th>\n",
       "      <th>genres</th>\n",
       "      <th>homepage</th>\n",
       "      <th>imdb_id</th>\n",
       "      <th>original_language</th>\n",
       "      <th>original_title</th>\n",
       "      <th>overview</th>\n",
       "      <th>popularity</th>\n",
       "      <th>...</th>\n",
       "      <th>release_date</th>\n",
       "      <th>runtime</th>\n",
       "      <th>spoken_languages</th>\n",
       "      <th>status</th>\n",
       "      <th>tagline</th>\n",
       "      <th>title</th>\n",
       "      <th>Keywords</th>\n",
       "      <th>cast</th>\n",
       "      <th>crew</th>\n",
       "      <th>revenue</th>\n",
       "    </tr>\n",
       "  </thead>\n",
       "  <tbody>\n",
       "    <tr>\n",
       "      <th>0</th>\n",
       "      <td>0</td>\n",
       "      <td>2396</td>\n",
       "      <td>0</td>\n",
       "      <td>7</td>\n",
       "      <td>2054</td>\n",
       "      <td>0</td>\n",
       "      <td>0</td>\n",
       "      <td>0</td>\n",
       "      <td>8</td>\n",
       "      <td>0</td>\n",
       "      <td>...</td>\n",
       "      <td>0</td>\n",
       "      <td>2</td>\n",
       "      <td>20</td>\n",
       "      <td>0</td>\n",
       "      <td>597</td>\n",
       "      <td>0</td>\n",
       "      <td>276</td>\n",
       "      <td>13</td>\n",
       "      <td>16</td>\n",
       "      <td>0</td>\n",
       "    </tr>\n",
       "  </tbody>\n",
       "</table>\n",
       "<p>1 rows × 23 columns</p>\n",
       "</div>"
      ],
      "text/plain": [
       "   id  belongs_to_collection  budget  genres  homepage  imdb_id  \\\n",
       "0   0                   2396       0       7      2054        0   \n",
       "\n",
       "   original_language  original_title  overview  popularity  ...  release_date  \\\n",
       "0                  0               0         8           0  ...             0   \n",
       "\n",
       "   runtime  spoken_languages  status  tagline  title  Keywords  cast  crew  \\\n",
       "0        2                20       0      597      0       276    13    16   \n",
       "\n",
       "   revenue  \n",
       "0        0  \n",
       "\n",
       "[1 rows x 23 columns]"
      ]
     },
     "execution_count": 7,
     "metadata": {},
     "output_type": "execute_result"
    }
   ],
   "source": [
    "pd.DataFrame(train.isnull().sum()).T"
   ]
  },
  {
   "cell_type": "code",
   "execution_count": 8,
   "metadata": {},
   "outputs": [
    {
     "data": {
      "text/html": [
       "<div>\n",
       "<style scoped>\n",
       "    .dataframe tbody tr th:only-of-type {\n",
       "        vertical-align: middle;\n",
       "    }\n",
       "\n",
       "    .dataframe tbody tr th {\n",
       "        vertical-align: top;\n",
       "    }\n",
       "\n",
       "    .dataframe thead th {\n",
       "        text-align: right;\n",
       "    }\n",
       "</style>\n",
       "<table border=\"1\" class=\"dataframe\">\n",
       "  <thead>\n",
       "    <tr style=\"text-align: right;\">\n",
       "      <th></th>\n",
       "      <th>id</th>\n",
       "      <th>belongs_to_collection</th>\n",
       "      <th>budget</th>\n",
       "      <th>genres</th>\n",
       "      <th>homepage</th>\n",
       "      <th>imdb_id</th>\n",
       "      <th>original_language</th>\n",
       "      <th>original_title</th>\n",
       "      <th>overview</th>\n",
       "      <th>popularity</th>\n",
       "      <th>...</th>\n",
       "      <th>release_date</th>\n",
       "      <th>runtime</th>\n",
       "      <th>spoken_languages</th>\n",
       "      <th>status</th>\n",
       "      <th>tagline</th>\n",
       "      <th>title</th>\n",
       "      <th>Keywords</th>\n",
       "      <th>cast</th>\n",
       "      <th>crew</th>\n",
       "      <th>revenue</th>\n",
       "    </tr>\n",
       "  </thead>\n",
       "  <tbody>\n",
       "    <tr>\n",
       "      <th>0</th>\n",
       "      <td>0.0</td>\n",
       "      <td>79.866667</td>\n",
       "      <td>0.0</td>\n",
       "      <td>0.233333</td>\n",
       "      <td>68.466667</td>\n",
       "      <td>0.0</td>\n",
       "      <td>0.0</td>\n",
       "      <td>0.0</td>\n",
       "      <td>0.266667</td>\n",
       "      <td>0.0</td>\n",
       "      <td>...</td>\n",
       "      <td>0.0</td>\n",
       "      <td>0.066667</td>\n",
       "      <td>0.666667</td>\n",
       "      <td>0.0</td>\n",
       "      <td>19.9</td>\n",
       "      <td>0.0</td>\n",
       "      <td>9.2</td>\n",
       "      <td>0.433333</td>\n",
       "      <td>0.533333</td>\n",
       "      <td>0.0</td>\n",
       "    </tr>\n",
       "  </tbody>\n",
       "</table>\n",
       "<p>1 rows × 23 columns</p>\n",
       "</div>"
      ],
      "text/plain": [
       "    id  belongs_to_collection  budget    genres   homepage  imdb_id  \\\n",
       "0  0.0              79.866667     0.0  0.233333  68.466667      0.0   \n",
       "\n",
       "   original_language  original_title  overview  popularity  ...  release_date  \\\n",
       "0                0.0             0.0  0.266667         0.0  ...           0.0   \n",
       "\n",
       "    runtime  spoken_languages  status  tagline  title  Keywords      cast  \\\n",
       "0  0.066667          0.666667     0.0     19.9    0.0       9.2  0.433333   \n",
       "\n",
       "       crew  revenue  \n",
       "0  0.533333      0.0  \n",
       "\n",
       "[1 rows x 23 columns]"
      ]
     },
     "execution_count": 8,
     "metadata": {},
     "output_type": "execute_result"
    }
   ],
   "source": [
    "((pd.DataFrame(train.isnull().sum()).T)/len(train))*100"
   ]
  },
  {
   "cell_type": "code",
   "execution_count": 9,
   "metadata": {},
   "outputs": [
    {
     "data": {
      "text/html": [
       "<div>\n",
       "<style scoped>\n",
       "    .dataframe tbody tr th:only-of-type {\n",
       "        vertical-align: middle;\n",
       "    }\n",
       "\n",
       "    .dataframe tbody tr th {\n",
       "        vertical-align: top;\n",
       "    }\n",
       "\n",
       "    .dataframe thead th {\n",
       "        text-align: right;\n",
       "    }\n",
       "</style>\n",
       "<table border=\"1\" class=\"dataframe\">\n",
       "  <thead>\n",
       "    <tr style=\"text-align: right;\">\n",
       "      <th></th>\n",
       "      <th>id</th>\n",
       "      <th>belongs_to_collection</th>\n",
       "      <th>budget</th>\n",
       "      <th>genres</th>\n",
       "      <th>homepage</th>\n",
       "      <th>imdb_id</th>\n",
       "      <th>original_language</th>\n",
       "      <th>original_title</th>\n",
       "      <th>overview</th>\n",
       "      <th>popularity</th>\n",
       "      <th>...</th>\n",
       "      <th>production_countries</th>\n",
       "      <th>release_date</th>\n",
       "      <th>runtime</th>\n",
       "      <th>spoken_languages</th>\n",
       "      <th>status</th>\n",
       "      <th>tagline</th>\n",
       "      <th>title</th>\n",
       "      <th>Keywords</th>\n",
       "      <th>cast</th>\n",
       "      <th>crew</th>\n",
       "    </tr>\n",
       "  </thead>\n",
       "  <tbody>\n",
       "    <tr>\n",
       "      <th>0</th>\n",
       "      <td>0.0</td>\n",
       "      <td>80.059118</td>\n",
       "      <td>0.0</td>\n",
       "      <td>0.363802</td>\n",
       "      <td>67.712597</td>\n",
       "      <td>0.0</td>\n",
       "      <td>0.0</td>\n",
       "      <td>0.0</td>\n",
       "      <td>0.318327</td>\n",
       "      <td>0.0</td>\n",
       "      <td>...</td>\n",
       "      <td>2.319236</td>\n",
       "      <td>0.022738</td>\n",
       "      <td>0.09095</td>\n",
       "      <td>0.95498</td>\n",
       "      <td>0.045475</td>\n",
       "      <td>19.622556</td>\n",
       "      <td>0.068213</td>\n",
       "      <td>8.93588</td>\n",
       "      <td>0.295589</td>\n",
       "      <td>0.500227</td>\n",
       "    </tr>\n",
       "  </tbody>\n",
       "</table>\n",
       "<p>1 rows × 22 columns</p>\n",
       "</div>"
      ],
      "text/plain": [
       "    id  belongs_to_collection  budget    genres   homepage  imdb_id  \\\n",
       "0  0.0              80.059118     0.0  0.363802  67.712597      0.0   \n",
       "\n",
       "   original_language  original_title  overview  popularity  ...  \\\n",
       "0                0.0             0.0  0.318327         0.0  ...   \n",
       "\n",
       "   production_countries  release_date  runtime  spoken_languages    status  \\\n",
       "0              2.319236      0.022738  0.09095           0.95498  0.045475   \n",
       "\n",
       "     tagline     title  Keywords      cast      crew  \n",
       "0  19.622556  0.068213   8.93588  0.295589  0.500227  \n",
       "\n",
       "[1 rows x 22 columns]"
      ]
     },
     "execution_count": 9,
     "metadata": {},
     "output_type": "execute_result"
    }
   ],
   "source": [
    "((pd.DataFrame(test.isnull().sum()).T)/len(test))*100"
   ]
  },
  {
   "cell_type": "code",
   "execution_count": 10,
   "metadata": {},
   "outputs": [
    {
     "data": {
      "text/html": [
       "<div>\n",
       "<style scoped>\n",
       "    .dataframe tbody tr th:only-of-type {\n",
       "        vertical-align: middle;\n",
       "    }\n",
       "\n",
       "    .dataframe tbody tr th {\n",
       "        vertical-align: top;\n",
       "    }\n",
       "\n",
       "    .dataframe thead th {\n",
       "        text-align: right;\n",
       "    }\n",
       "</style>\n",
       "<table border=\"1\" class=\"dataframe\">\n",
       "  <thead>\n",
       "    <tr style=\"text-align: right;\">\n",
       "      <th></th>\n",
       "      <th>0</th>\n",
       "      <th>15000000</th>\n",
       "      <th>40000000</th>\n",
       "      <th>25000000</th>\n",
       "      <th>20000000</th>\n",
       "      <th>5000000</th>\n",
       "      <th>30000000</th>\n",
       "      <th>12000000</th>\n",
       "      <th>10000000</th>\n",
       "      <th>50000000</th>\n",
       "      <th>...</th>\n",
       "      <th>645180</th>\n",
       "      <th>125000</th>\n",
       "      <th>4361898</th>\n",
       "      <th>3600000</th>\n",
       "      <th>93</th>\n",
       "      <th>3750000</th>\n",
       "      <th>113</th>\n",
       "      <th>891000</th>\n",
       "      <th>5400000</th>\n",
       "      <th>24554</th>\n",
       "    </tr>\n",
       "  </thead>\n",
       "  <tbody>\n",
       "    <tr>\n",
       "      <th>budget</th>\n",
       "      <td>812</td>\n",
       "      <td>72</td>\n",
       "      <td>71</td>\n",
       "      <td>71</td>\n",
       "      <td>68</td>\n",
       "      <td>68</td>\n",
       "      <td>65</td>\n",
       "      <td>54</td>\n",
       "      <td>53</td>\n",
       "      <td>50</td>\n",
       "      <td>...</td>\n",
       "      <td>1</td>\n",
       "      <td>1</td>\n",
       "      <td>1</td>\n",
       "      <td>1</td>\n",
       "      <td>1</td>\n",
       "      <td>1</td>\n",
       "      <td>1</td>\n",
       "      <td>1</td>\n",
       "      <td>1</td>\n",
       "      <td>1</td>\n",
       "    </tr>\n",
       "  </tbody>\n",
       "</table>\n",
       "<p>1 rows × 406 columns</p>\n",
       "</div>"
      ],
      "text/plain": [
       "        0         15000000  40000000  25000000  20000000  5000000   30000000  \\\n",
       "budget       812        72        71        71        68        68        65   \n",
       "\n",
       "        12000000  10000000  50000000  ...  645180    125000    4361898   \\\n",
       "budget        54        53        50  ...         1         1         1   \n",
       "\n",
       "        3600000   93        3750000   113       891000    5400000   24554     \n",
       "budget         1         1         1         1         1         1         1  \n",
       "\n",
       "[1 rows x 406 columns]"
      ]
     },
     "execution_count": 10,
     "metadata": {},
     "output_type": "execute_result"
    }
   ],
   "source": [
    "pd.DataFrame(train.budget.value_counts()).T"
   ]
  },
  {
   "cell_type": "code",
   "execution_count": 11,
   "metadata": {},
   "outputs": [
    {
     "data": {
      "text/html": [
       "<div>\n",
       "<style scoped>\n",
       "    .dataframe tbody tr th:only-of-type {\n",
       "        vertical-align: middle;\n",
       "    }\n",
       "\n",
       "    .dataframe tbody tr th {\n",
       "        vertical-align: top;\n",
       "    }\n",
       "\n",
       "    .dataframe thead th {\n",
       "        text-align: right;\n",
       "    }\n",
       "</style>\n",
       "<table border=\"1\" class=\"dataframe\">\n",
       "  <thead>\n",
       "    <tr style=\"text-align: right;\">\n",
       "      <th></th>\n",
       "      <th>334</th>\n",
       "      <th>347</th>\n",
       "      <th>639</th>\n",
       "      <th>695</th>\n",
       "      <th>1190</th>\n",
       "      <th>1346</th>\n",
       "      <th>1541</th>\n",
       "      <th>1754</th>\n",
       "      <th>1874</th>\n",
       "      <th>1917</th>\n",
       "      <th>2117</th>\n",
       "      <th>2251</th>\n",
       "      <th>2383</th>\n",
       "      <th>2490</th>\n",
       "      <th>2582</th>\n",
       "    </tr>\n",
       "  </thead>\n",
       "  <tbody>\n",
       "    <tr>\n",
       "      <th>imdb_id</th>\n",
       "      <td>tt0376144</td>\n",
       "      <td>tt0118172</td>\n",
       "      <td>tt0183659</td>\n",
       "      <td>tt0374271</td>\n",
       "      <td>tt0089984</td>\n",
       "      <td>tt0048028</td>\n",
       "      <td>tt3805180</td>\n",
       "      <td>tt0110604</td>\n",
       "      <td>tt1133617</td>\n",
       "      <td>tt0016104</td>\n",
       "      <td>tt0294289</td>\n",
       "      <td>tt1729637</td>\n",
       "      <td>tt0065486</td>\n",
       "      <td>tt0113965</td>\n",
       "      <td>tt0339230</td>\n",
       "    </tr>\n",
       "    <tr>\n",
       "      <th>title</th>\n",
       "      <td>Saamy</td>\n",
       "      <td>The Wind in the Willows</td>\n",
       "      <td>Pollock</td>\n",
       "      <td>Tere Naam</td>\n",
       "      <td>He-Man and She-Ra: The Secret of the Sword</td>\n",
       "      <td>East of Eden</td>\n",
       "      <td>All at Once</td>\n",
       "      <td>Mute Witness</td>\n",
       "      <td>Missing</td>\n",
       "      <td>The Merry Widow</td>\n",
       "      <td>American Adobo</td>\n",
       "      <td>Bodyguard</td>\n",
       "      <td>Borsalino</td>\n",
       "      <td>Never Talk to Strangers</td>\n",
       "      <td>Kops</td>\n",
       "    </tr>\n",
       "  </tbody>\n",
       "</table>\n",
       "</div>"
      ],
      "text/plain": [
       "              334                      347        639        695   \\\n",
       "imdb_id  tt0376144                tt0118172  tt0183659  tt0374271   \n",
       "title        Saamy  The Wind in the Willows    Pollock  Tere Naam   \n",
       "\n",
       "                                               1190          1346  \\\n",
       "imdb_id                                   tt0089984     tt0048028   \n",
       "title    He-Man and She-Ra: The Secret of the Sword  East of Eden   \n",
       "\n",
       "                1541          1754       1874             1917  \\\n",
       "imdb_id    tt3805180     tt0110604  tt1133617        tt0016104   \n",
       "title    All at Once  Mute Witness    Missing  The Merry Widow   \n",
       "\n",
       "                   2117       2251       2383                     2490  \\\n",
       "imdb_id       tt0294289  tt1729637  tt0065486                tt0113965   \n",
       "title    American Adobo  Bodyguard  Borsalino  Never Talk to Strangers   \n",
       "\n",
       "              2582  \n",
       "imdb_id  tt0339230  \n",
       "title         Kops  "
      ]
     },
     "execution_count": 11,
     "metadata": {},
     "output_type": "execute_result"
    }
   ],
   "source": [
    "train[train['revenue'] < 10][['imdb_id', 'title']].T"
   ]
  },
  {
   "cell_type": "code",
   "execution_count": 44,
   "metadata": {},
   "outputs": [
    {
     "name": "stderr",
     "output_type": "stream",
     "text": [
      "C:\\Users\\B-17\\AppData\\Roaming\\Python\\Python36\\site-packages\\matplotlib\\axes\\_axes.py:6521: MatplotlibDeprecationWarning: \n",
      "The 'normed' kwarg was deprecated in Matplotlib 2.1 and will be removed in 3.1. Use 'density' instead.\n",
      "  alternative=\"'density'\", removal=\"3.1\")\n"
     ]
    },
    {
     "data": {
      "image/png": "[encoded data removed]",
      "text/plain": [
       "<Figure size 1296x1080 with 5 Axes>"
      ]
     },
     "metadata": {},
     "output_type": "display_data"
    }
   ],
   "source": [
    "fig = plt.figure(figsize=(18,15))\n",
    "plt.subplots_adjust(hspace=0.5)\n",
    "\n",
    "# Plot 1: Target Variable Distribution\n",
    "plt.subplot2grid((4,2), (0,0))\n",
    "\n",
    "sns.distplot(np.log1p(train['revenue']), kde=False, bins=40)\n",
    "\n",
    "plt.title('Distribution for Target Variable', fontsize = 15)\n",
    "plt.xlabel('Revenue - log(1+x)', fontsize=12)\n",
    "\n",
    "# Plot 2: Revenue and Budget\n",
    "plt.subplot2grid((4,2), (0,1))\n",
    "\n",
    "#sns.scatterplot(data=train, x='budget', y='revenue')\n",
    "# sns.scatter(data=train,x='budget', y='revenue')\n",
    "# plt.title('Revenue vs. Budget', fontsize = 15)\n",
    "# plt.xlabel('Budget', fontsize=12)\n",
    "# plt.ylabel('Revenue', fontsize=12)\n",
    "\n",
    "# Plot 3: Revenue, Runtime, and Popularity\n",
    "ax = plt.subplot2grid((4,2), (1,0), projection='3d', rowspan = 2, colspan = 2)\n",
    "colors = np.random.rand(len(train))\n",
    "\n",
    "x3d = np.array(train['runtime'])\n",
    "y3d = np.array(train['popularity'])\n",
    "z3d = np.array(train['revenue'])\n",
    "ax.scatter(x3d, y3d, z3d, c = colors, alpha = 1)\n",
    "\n",
    "ax.set_xlabel('Runtime')\n",
    "ax.set_ylabel('Popularity')\n",
    "ax.set_zlabel('Revenue')\n",
    "ax.set_title('3D plot for Runtime, Popularity and Revenue', fontsize = 15)\n",
    "\n",
    "# Plot 4: Correlation matrix\n",
    "plt.subplot2grid((4,2), (3,0))\n",
    "\n",
    "corr = train.corr()\n",
    "\n",
    "mask = np.zeros_like(corr, dtype=np.bool)\n",
    "mask[np.triu_indices_from(mask)] = True\n",
    "\n",
    "sns.heatmap(corr, mask = mask, cmap = 'PiYG', annot = True, fmt=\".2f\")\n",
    "\n",
    "plt.yticks(rotation=0) \n",
    "plt.xticks(rotation=0)\n",
    "plt.title('Correlation Matrix for Train Data', fontsize = 15)\n",
    "\n",
    "# Display Plot\n",
    "plt.show()"
   ]
  },
  {
   "cell_type": "markdown",
   "metadata": {},
   "source": [
    "* Target Variable Distribution: It's never a bad idea to start by plotting the distribution of the target variable. Using np.log1p allows us to plot the several values between 0 and 1 million USD and get a much more uniform distribution.\n",
    "* Revenue vs. Budget: A scatterplot to explore the relationship between these two numerical features. We have plenty of zero values for budget\n",
    "* 3D Plot: A 3D plot to explore the relationship between Runtime, Popularity, and Revenue.\n",
    "* Correlation Matrix: So revenue and budget are highly correlated. Let's try to predict the target variable with just with this one variable and get a baseline score and leaderboard rank!"
   ]
  },
  {
   "cell_type": "code",
   "execution_count": 13,
   "metadata": {},
   "outputs": [],
   "source": [
    "train['revenue'] = np.log1p(train['revenue'])"
   ]
  },
  {
   "cell_type": "code",
   "execution_count": 14,
   "metadata": {},
   "outputs": [],
   "source": [
    "x = train.budget.values.reshape(-1,1)\n",
    "y = train.revenue\n",
    "reg = LinearRegression().fit(x, y)"
   ]
  },
  {
   "cell_type": "code",
   "execution_count": 15,
   "metadata": {},
   "outputs": [
    {
     "name": "stdout",
     "output_type": "stream",
     "text": [
      "Regression Score: 0.23605620285222098\n",
      "Regression Coefficient: 4.017051002648621e-08\n",
      "Regression Intercept: 15.056890891994975\n"
     ]
    }
   ],
   "source": [
    "print(f'Regression Score: {reg.score(x, y)}')\n",
    "print(f'Regression Coefficient: {reg.coef_[0]}')\n",
    "print(f'Regression Intercept: {reg.intercept_}')"
   ]
  },
  {
   "cell_type": "code",
   "execution_count": 16,
   "metadata": {},
   "outputs": [],
   "source": [
    "predictions = reg.predict(test['budget'].values.reshape(-1,1))"
   ]
  },
  {
   "cell_type": "code",
   "execution_count": 17,
   "metadata": {},
   "outputs": [],
   "source": [
    "submission['revenue'] = np.round(np.expm1(predictions))"
   ]
  },
  {
   "cell_type": "code",
   "execution_count": 18,
   "metadata": {},
   "outputs": [],
   "source": [
    "submission.to_csv('submission_budget_linreg.csv', index = False)"
   ]
  },
  {
   "cell_type": "code",
   "execution_count": 19,
   "metadata": {},
   "outputs": [],
   "source": [
    "rf_cols = ['budget', 'original_language', 'popularity', 'release_date', 'runtime', 'status', 'revenue']\n",
    "rf_train = train[rf_cols].copy()\n",
    "rf_cols.remove('revenue')\n",
    "rf_test = test[rf_cols].copy()"
   ]
  },
  {
   "cell_type": "code",
   "execution_count": 20,
   "metadata": {},
   "outputs": [
    {
     "data": {
      "text/plain": [
       "16000000.0"
      ]
     },
     "execution_count": 20,
     "metadata": {},
     "output_type": "execute_result"
    }
   ],
   "source": [
    "median_budget = rf_train[rf_train['budget'] > 0]['budget'].median()\n",
    "median_budget"
   ]
  },
  {
   "cell_type": "code",
   "execution_count": 21,
   "metadata": {},
   "outputs": [],
   "source": [
    "def fill_budget(df, median_budget):\n",
    "    df['budget_is_median'] = 0\n",
    "    df.loc[df.budget == 0, 'budget_is_median'] = 1\n",
    "    df.loc[df.budget == 0, 'budget'] = median_budget\n",
    "    return df"
   ]
  },
  {
   "cell_type": "code",
   "execution_count": 22,
   "metadata": {},
   "outputs": [],
   "source": [
    "rf_train = fill_budget(rf_train, median_budget)\n",
    "rf_test = fill_budget(rf_test, median_budget)"
   ]
  },
  {
   "cell_type": "code",
   "execution_count": 23,
   "metadata": {},
   "outputs": [],
   "source": [
    "rf_combined = pd.concat([rf_train, rf_test], sort=False)"
   ]
  },
  {
   "cell_type": "code",
   "execution_count": 24,
   "metadata": {},
   "outputs": [],
   "source": [
    "le = LabelEncoder()\n",
    "le.fit(rf_combined['original_language'])\n",
    "rf_train['original_language'] = le.transform(rf_train['original_language'])\n",
    "rf_test['original_language'] = le.transform(rf_test['original_language'])"
   ]
  },
  {
   "cell_type": "code",
   "execution_count": 25,
   "metadata": {},
   "outputs": [],
   "source": [
    "rf_test.loc[rf_test['status'].isnull() == True, 'status'] = 'Released'\n",
    "rf_combined.loc[rf_combined['status'].isnull() == True, 'status'] = 'Released'"
   ]
  },
  {
   "cell_type": "code",
   "execution_count": 26,
   "metadata": {},
   "outputs": [],
   "source": [
    "le = LabelEncoder()\n",
    "le.fit(rf_combined['status'])\n",
    "rf_train['status'] = le.transform(rf_train['status'])\n",
    "rf_test['status'] = le.transform(rf_test['status'])\n"
   ]
  },
  {
   "cell_type": "code",
   "execution_count": 27,
   "metadata": {},
   "outputs": [
    {
     "data": {
      "text/plain": [
       "104.0"
      ]
     },
     "execution_count": 27,
     "metadata": {},
     "output_type": "execute_result"
    }
   ],
   "source": [
    "median_runtime = rf_train['runtime'].median()\n",
    "median_runtime"
   ]
  },
  {
   "cell_type": "code",
   "execution_count": 28,
   "metadata": {},
   "outputs": [],
   "source": [
    "def fill_runtime(df, median_runtime):\n",
    "    df['runtime_is_median'] = 0\n",
    "    df.loc[df.runtime == 0, 'runtime_is_median'] = 1\n",
    "    df.loc[df.runtime.isnull() == True, 'runtime_is_median'] = 1\n",
    "    df.loc[df.runtime == 0, 'runtime'] = median_runtime\n",
    "    df.loc[df.runtime.isnull() == True, 'runtime'] = median_runtime\n",
    "    return df"
   ]
  },
  {
   "cell_type": "code",
   "execution_count": 29,
   "metadata": {},
   "outputs": [],
   "source": [
    "rf_train = fill_runtime(rf_train, median_runtime)\n",
    "rf_test = fill_runtime(rf_test, median_runtime)"
   ]
  },
  {
   "cell_type": "code",
   "execution_count": 30,
   "metadata": {},
   "outputs": [],
   "source": [
    "from datetime import timedelta, date"
   ]
  },
  {
   "cell_type": "code",
   "execution_count": 31,
   "metadata": {},
   "outputs": [],
   "source": [
    "rf_test.loc[rf_test['release_date'].isnull() == True, 'release_date'] = '10/19/2001'\n",
    "test.loc[test['release_date'].isnull() == True, 'release_date'] = '10/19/2001'"
   ]
  },
  {
   "cell_type": "code",
   "execution_count": 32,
   "metadata": {},
   "outputs": [],
   "source": [
    "def add_date_features(df, col, prefix):\n",
    "    df[col] = pd.to_datetime(df[col])\n",
    "    future = df[col] > date(year=2017,month=12,day=31)\n",
    "    df.loc[future, col] -= timedelta(days=365.25*100)\n",
    "    \n",
    "    df[prefix+'_day_of_week'] = df[col].dt.dayofweek\n",
    "    df[prefix+'_day_of_year'] = df[col].dt.dayofyear\n",
    "    df[prefix+'_month'] = df[col].dt.month\n",
    "    df[prefix+'_year'] = df[col].dt.year\n",
    "    df[prefix+'_day'] = df[col].dt.day\n",
    "    df[prefix+'_is_year_end'] = df[col].dt.is_year_end\n",
    "    df[prefix+'_is_year_start'] = df[col].dt.is_year_start\n",
    "    df[prefix+'_week'] = df[col].dt.week\n",
    "    df[prefix+'_quarter'] = df[col].dt.quarter    \n",
    "    \n",
    "    df.drop(col, axis = 1, inplace = True)\n",
    "\n",
    "    return df"
   ]
  },
  {
   "cell_type": "code",
   "execution_count": 33,
   "metadata": {},
   "outputs": [
    {
     "name": "stderr",
     "output_type": "stream",
     "text": [
      "C:\\Users\\B-17\\Anaconda3\\lib\\site-packages\\ipykernel_launcher.py:3: FutureWarning: Comparing Series of datetimes with 'datetime.date'.  Currently, the\n",
      "'datetime.date' is coerced to a datetime. In the future pandas will\n",
      "not coerce, and a TypeError will be raised. To retain the current\n",
      "behavior, convert the 'datetime.date' to a datetime with\n",
      "'pd.Timestamp'.\n",
      "  This is separate from the ipykernel package so we can avoid doing imports until\n"
     ]
    }
   ],
   "source": [
    "rf_train = add_date_features(rf_train, 'release_date', 'release')\n",
    "rf_test = add_date_features(rf_test, 'release_date', 'release')"
   ]
  },
  {
   "cell_type": "code",
   "execution_count": 34,
   "metadata": {},
   "outputs": [],
   "source": [
    "rf = RandomForestRegressor(n_jobs = -1)"
   ]
  },
  {
   "cell_type": "code",
   "execution_count": 35,
   "metadata": {},
   "outputs": [],
   "source": [
    "X_train, X_test, y_train, y_test = train_test_split(rf_train.drop('revenue', axis = 1), rf_train['revenue'], test_size=0.1, random_state=42)"
   ]
  },
  {
   "cell_type": "code",
   "execution_count": 36,
   "metadata": {},
   "outputs": [],
   "source": [
    "def rmse(y_pred, y_true):\n",
    "    return np.sqrt(mean_squared_error(y_pred, y_true))"
   ]
  },
  {
   "cell_type": "code",
   "execution_count": 37,
   "metadata": {},
   "outputs": [
    {
     "name": "stdout",
     "output_type": "stream",
     "text": [
      "0.9040564737102013\n",
      "0.4710869742650412\n",
      "0.9485210808917169\n",
      "2.206217629927149\n"
     ]
    }
   ],
   "source": [
    "rf.fit(X_train, y_train)\n",
    "print(rf.score(X_train, y_train))\n",
    "print(rf.score(X_test, y_test))\n",
    "print(rmse(rf.predict(X_train), y_train))\n",
    "print(rmse(rf.predict(X_test), y_test))"
   ]
  },
  {
   "cell_type": "code",
   "execution_count": 38,
   "metadata": {},
   "outputs": [],
   "source": [
    "predictions = rf.predict(rf_test)"
   ]
  },
  {
   "cell_type": "code",
   "execution_count": 39,
   "metadata": {},
   "outputs": [],
   "source": [
    "submission['revenue'] = np.round(np.expm1(predictions))"
   ]
  },
  {
   "cell_type": "code",
   "execution_count": 40,
   "metadata": {},
   "outputs": [
    {
     "data": {
      "text/html": [
       "<div>\n",
       "<style scoped>\n",
       "    .dataframe tbody tr th:only-of-type {\n",
       "        vertical-align: middle;\n",
       "    }\n",
       "\n",
       "    .dataframe tbody tr th {\n",
       "        vertical-align: top;\n",
       "    }\n",
       "\n",
       "    .dataframe thead th {\n",
       "        text-align: right;\n",
       "    }\n",
       "</style>\n",
       "<table border=\"1\" class=\"dataframe\">\n",
       "  <thead>\n",
       "    <tr style=\"text-align: right;\">\n",
       "      <th></th>\n",
       "      <th>id</th>\n",
       "      <th>revenue</th>\n",
       "    </tr>\n",
       "  </thead>\n",
       "  <tbody>\n",
       "    <tr>\n",
       "      <th>0</th>\n",
       "      <td>3001</td>\n",
       "      <td>13104039.0</td>\n",
       "    </tr>\n",
       "    <tr>\n",
       "      <th>1</th>\n",
       "      <td>3002</td>\n",
       "      <td>810721.0</td>\n",
       "    </tr>\n",
       "    <tr>\n",
       "      <th>2</th>\n",
       "      <td>3003</td>\n",
       "      <td>4444384.0</td>\n",
       "    </tr>\n",
       "    <tr>\n",
       "      <th>3</th>\n",
       "      <td>3004</td>\n",
       "      <td>5560707.0</td>\n",
       "    </tr>\n",
       "    <tr>\n",
       "      <th>4</th>\n",
       "      <td>3005</td>\n",
       "      <td>207637.0</td>\n",
       "    </tr>\n",
       "  </tbody>\n",
       "</table>\n",
       "</div>"
      ],
      "text/plain": [
       "     id     revenue\n",
       "0  3001  13104039.0\n",
       "1  3002    810721.0\n",
       "2  3003   4444384.0\n",
       "3  3004   5560707.0\n",
       "4  3005    207637.0"
      ]
     },
     "execution_count": 40,
     "metadata": {},
     "output_type": "execute_result"
    }
   ],
   "source": [
    "submission.head()"
   ]
  },
  {
   "cell_type": "code",
   "execution_count": 41,
   "metadata": {},
   "outputs": [],
   "source": [
    "submission.to_csv('submission_simple_rf.csv', index = False)"
   ]
  },
  {
   "cell_type": "code",
   "execution_count": 42,
   "metadata": {},
   "outputs": [
    {
     "data": {
      "image/png": "[encoded data removed]",
      "text/plain": [
       "<Figure size 432x288 with 1 Axes>"
      ]
     },
     "metadata": {},
     "output_type": "display_data"
    }
   ],
   "source": [
    "feature_importances = pd.DataFrame(rf.feature_importances_, index = X_train.columns, columns=['importance'])\n",
    "feature_importances = feature_importances.sort_values('importance', ascending=True)\n",
    "feature_importances.plot(kind = 'barh')\n",
    "plt.show()"
   ]
  },
  {
   "cell_type": "code",
   "execution_count": 45,
   "metadata": {},
   "outputs": [
    {
     "data": {
      "text/html": [
       "<div>\n",
       "<style scoped>\n",
       "    .dataframe tbody tr th:only-of-type {\n",
       "        vertical-align: middle;\n",
       "    }\n",
       "\n",
       "    .dataframe tbody tr th {\n",
       "        vertical-align: top;\n",
       "    }\n",
       "\n",
       "    .dataframe thead th {\n",
       "        text-align: right;\n",
       "    }\n",
       "</style>\n",
       "<table border=\"1\" class=\"dataframe\">\n",
       "  <thead>\n",
       "    <tr style=\"text-align: right;\">\n",
       "      <th></th>\n",
       "      <th>id</th>\n",
       "      <th>revenue</th>\n",
       "    </tr>\n",
       "  </thead>\n",
       "  <tbody>\n",
       "    <tr>\n",
       "      <th>0</th>\n",
       "      <td>3001</td>\n",
       "      <td>13104039.0</td>\n",
       "    </tr>\n",
       "    <tr>\n",
       "      <th>1</th>\n",
       "      <td>3002</td>\n",
       "      <td>810721.0</td>\n",
       "    </tr>\n",
       "    <tr>\n",
       "      <th>2</th>\n",
       "      <td>3003</td>\n",
       "      <td>4444384.0</td>\n",
       "    </tr>\n",
       "    <tr>\n",
       "      <th>3</th>\n",
       "      <td>3004</td>\n",
       "      <td>5560707.0</td>\n",
       "    </tr>\n",
       "    <tr>\n",
       "      <th>4</th>\n",
       "      <td>3005</td>\n",
       "      <td>207637.0</td>\n",
       "    </tr>\n",
       "  </tbody>\n",
       "</table>\n",
       "</div>"
      ],
      "text/plain": [
       "     id     revenue\n",
       "0  3001  13104039.0\n",
       "1  3002    810721.0\n",
       "2  3003   4444384.0\n",
       "3  3004   5560707.0\n",
       "4  3005    207637.0"
      ]
     },
     "execution_count": 45,
     "metadata": {},
     "output_type": "execute_result"
    }
   ],
   "source": [
    "submission.head()"
   ]
  },
  {
   "cell_type": "code",
   "execution_count": null,
   "metadata": {},
   "outputs": [],
   "source": []
  }
 ],
 "metadata": {
  "kernelspec": {
   "display_name": "Python 3",
   "language": "python",
   "name": "python3"
  },
  "language_info": {
   "codemirror_mode": {
    "name": "ipython",
    "version": 3
   },
   "file_extension": ".py",
   "mimetype": "text/x-python",
   "name": "python",
   "nbconvert_exporter": "python",
   "pygments_lexer": "ipython3",
   "version": "3.6.5"
  }
 },
 "nbformat": 4,
 "nbformat_minor": 2
}
