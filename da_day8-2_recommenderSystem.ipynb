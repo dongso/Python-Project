{
 "cells": [
  {
   "cell_type": "code",
   "execution_count": 9,
   "metadata": {},
   "outputs": [],
   "source": [
    "from math import sqrt"
   ]
  },
  {
   "cell_type": "code",
   "execution_count": 33,
   "metadata": {},
   "outputs": [
    {
     "data": {
      "text/plain": [
       "{'BTS': {'생일': 5, '바울': 4, '할로윈': 1.5},\n",
       " '손흥민': {'바울': 5, '할로윈': 2},\n",
       " '조용필': {'생일': 2.5, '바울': 2, '할로윈': 1},\n",
       " '나훈아': {'바울': 4, '생일': 3.5, '할로윈': 5}}"
      ]
     },
     "execution_count": 33,
     "metadata": {},
     "output_type": "execute_result"
    }
   ],
   "source": [
    "critics={\n",
    "    'BTS':{'생일':5, '바울':4, '할로윈':1.5},\n",
    "    '손흥민':{'바울':5, '할로윈':2},\n",
    "    '조용필':{'생일':2.5, '바울':2, '할로윈':1},\n",
    "    '나훈아':{'바울':4, '생일':3.5, '할로윈':5}\n",
    "}\n",
    "critics"
   ]
  },
  {
   "cell_type": "code",
   "execution_count": 8,
   "metadata": {},
   "outputs": [
    {
     "data": {
      "text/plain": [
       "1.5"
      ]
     },
     "execution_count": 8,
     "metadata": {},
     "output_type": "execute_result"
    }
   ],
   "source": [
    "#collaborative filtering(cf) :: 여러 사람들로부터 얻은 정보에 따라 각각의 사용자들의 관심사를 자동으로 예측.\n",
    "#데이터의 양이 적을 때 -> item 기반 필터링 // 데이터의 양이 많을 때 -> 사용자기반 필터링\n",
    "\n",
    "#critics에서 '손흥민'이 영화 '생일'을 관람한 후 에 평점을 얼마나 줄건지를 예측해 보자\n",
    "#(사용자 기반 cf을 사용해보자!)\n",
    "critics.get(\"BTS\") \n",
    "# key가 존재하면 critics['BTS']와 같은 결과가 나옴\n",
    "# key가 존재하지 않는다면 critics['AOA']를 했을 때는 오류가 발생하지만, \n",
    "#critics.get('AOA')를 한다면 None이 Return 되고 오류는 발생하지 않는다.\n",
    "\n",
    "critics.get(\"BTS\").get('할로윈')"
   ]
  },
  {
   "cell_type": "code",
   "execution_count": 13,
   "metadata": {},
   "outputs": [],
   "source": [
    "def sim(i,j):\n",
    "    #점의 위치를 받아서 거리를 계산해서 리턴\n",
    "    return sqrt(pow(i,2)+pow(j,2))"
   ]
  },
  {
   "cell_type": "code",
   "execution_count": 18,
   "metadata": {},
   "outputs": [
    {
     "name": "stdout",
     "output_type": "stream",
     "text": [
      "2.0615528128088303\n",
      "1.118033988749895\n",
      "3.1622776601683795\n",
      "3.1622776601683795\n"
     ]
    }
   ],
   "source": [
    "#두 사람간의 유사도를 구하기 위해서 거리를 구해야 한다.\n",
    "#피타고라스 정리를 사용\n",
    "#거리가 작을 수록 유사도가 높다(점의 위치가 가깝다는 의미)\n",
    "#!) (x1,y1), (x2,y2)\n",
    "#distance = sqrt((x1-x2)^2 + (y1-y2)^2)\n",
    "\n",
    "x=pow((critics.get('BTS').get('할로윈') - critics.get('조용필').get('할로윈')),2)\n",
    "y=pow((critics.get('BTS').get('바울') - critics.get('조용필').get('바울')),2)\n",
    "d=sqrt(x+y)\n",
    "\n",
    "print(d)\n",
    "\n",
    "var1=critics.get('BTS').get('바울') - critics.get('손흥민').get('바울')\n",
    "var2=critics.get('BTS').get('할로윈') - critics.get('손흥민').get('할로윈')\n",
    "\n",
    "print(sim(var1,var2))\n",
    "\n",
    "var1=critics.get('조용필').get('바울') - critics.get('손흥민').get('바울')\n",
    "var2=critics.get('조용필').get('할로윈') - critics.get('손흥민').get('할로윈')\n",
    "\n",
    "print(sim(var1,var2))\n",
    "\n",
    "var1=critics.get('나훈아').get('바울') - critics.get('손흥민').get('바울')\n",
    "var2=critics.get('나훈아').get('할로윈') - critics.get('손흥민').get('할로윈')\n",
    "\n",
    "print(sim(var1,var2))"
   ]
  },
  {
   "cell_type": "code",
   "execution_count": 30,
   "metadata": {},
   "outputs": [
    {
     "name": "stdout",
     "output_type": "stream",
     "text": [
      "BTS과 손흥민 간의 유사도(0:낮 ,1:높):  0.4721359549995794\n",
      "조용필과 손흥민 간의 유사도(0:낮 ,1:높):  0.2402530733520421\n",
      "나훈아과 손흥민 간의 유사도(0:낮 ,1:높):  0.2402530733520421\n"
     ]
    }
   ],
   "source": [
    "# var1=critics['나훈아']['바울']- critics['손흥민']['바울']\n",
    "# var2=critics['나훈아']['할로윈']- critics['손흥민']['할로윈']\n",
    "\n",
    "# print(sim(var1,var2))\n",
    "\n",
    "#손흥민과 다른 사람들과의 거리 구하기.\n",
    "for i in critics:\n",
    "    if i != '손흥민': #'본인인 손흥민은 제외시킴'\n",
    "        var1=critics[i]['바울']- critics['손흥민']['바울']\n",
    "        var2=critics[i]['할로윈']- critics['손흥민']['할로윈']\n",
    "        #print(\"%s과 손흥민 간의 거리: \"%i, sim(var1,var2))\n",
    "        print(\"%s과 손흥민 간의 유사도(0:낮 ,1:높): \"%i, 1/(1+sim(var1,var2))) #값이 클수록(1에 가까울 수록) 유사도가 높음을 표현.\n",
    "                "
   ]
  },
  {
   "cell_type": "markdown",
   "metadata": {},
   "source": [
    "    코사인 유사도 -> 자연어처리에서 많이 사용됨.\n",
    "    유클리안 거리 ->3차원 이상의 공간에서 거리를 구할때 사용"
   ]
  },
  {
   "cell_type": "code",
   "execution_count": 38,
   "metadata": {},
   "outputs": [
    {
     "data": {
      "text/plain": [
       "0.4721359549995794"
      ]
     },
     "execution_count": 38,
     "metadata": {},
     "output_type": "execute_result"
    }
   ],
   "source": [
    "def sim_distance(data, name1, name2):\n",
    "    sum=0\n",
    "    #유클리디안 거리를 계산해서 리턴\n",
    "    for i in data[name1] :#나훈아가 본 영화의 제목이 i에 들어감\n",
    "        if i in data[name2]: #나훈아도 보고, 조용필도 본 영화의 제목이 i에 들어감\n",
    "                            #같은 영화를 봤다면\n",
    "            sum+=pow(data[name1][i]-data[name2][i],2)  \n",
    "    \n",
    "    return 1/(1+sqrt(sum))\n",
    "\n",
    "sim_distance(critics,'나훈아','조용필')\n",
    "sim_distance(critics, '손흥민','BTS') #손흥민이 안본 영화는 계산에서 제외가 된다.\n",
    "\n",
    "\n",
    "#모든 조합을 만들어서 sim_distance를 돌리고 max()를 통해서\n",
    "#사람들 사이에서 가장 유사도가 높은 두사람을 뽑을 수 있다.\n"
   ]
  },
  {
   "cell_type": "code",
   "execution_count": null,
   "metadata": {},
   "outputs": [],
   "source": []
  },
  {
   "cell_type": "code",
   "execution_count": null,
   "metadata": {},
   "outputs": [],
   "source": []
  },
  {
   "cell_type": "code",
   "execution_count": null,
   "metadata": {},
   "outputs": [],
   "source": []
  },
  {
   "cell_type": "code",
   "execution_count": null,
   "metadata": {},
   "outputs": [],
   "source": []
  },
  {
   "cell_type": "code",
   "execution_count": null,
   "metadata": {},
   "outputs": [],
   "source": []
  },
  {
   "cell_type": "code",
   "execution_count": null,
   "metadata": {},
   "outputs": [],
   "source": []
  },
  {
   "cell_type": "code",
   "execution_count": null,
   "metadata": {},
   "outputs": [],
   "source": []
  },
  {
   "cell_type": "code",
   "execution_count": null,
   "metadata": {},
   "outputs": [],
   "source": []
  },
  {
   "cell_type": "code",
   "execution_count": 2,
   "metadata": {},
   "outputs": [],
   "source": [
    "\n",
    "# critics = {\n",
    "#     '조용필': {\n",
    "#         '택시운전사': 2.5,\n",
    "#         '겨울왕국': 3.5,\n",
    "#         '리빙라스베가스': 3.0,\n",
    "#         '넘버3': 3.5,\n",
    "#         '사랑과전쟁': 2.5,\n",
    "#         '세계대전': 3.0,\n",
    "#     },\n",
    "#     'BTS': {\n",
    "#         '택시운전사': 1.0,\n",
    "#         '겨울왕국': 4.5,\n",
    "#         '리빙라스베가스': 0.5,\n",
    "#         '넘버3': 1.5,\n",
    "#         '사랑과전쟁': 4.5,\n",
    "#         '세계대전': 5.0,\n",
    "#     },\n",
    "#     '블핑': {\n",
    "#         '택시운전사': 3.0,\n",
    "#         '겨울왕국': 3.5,\n",
    "#         '리빙라스베가스': 1.5,\n",
    "#         '넘버3': 5.0,\n",
    "#         '세계대전': 3.0,\n",
    "#         '사랑과전쟁': 3.5,\n",
    "#     },\n",
    "#     '싸이': {\n",
    "#         '택시운전사': 2.5,\n",
    "#         '겨울왕국': 3.0,\n",
    "#         '넘버3': 3.5,\n",
    "#         '세계대전': 4.0,\n",
    "#     },\n",
    "#     '장범준': {\n",
    "#         '겨울왕국': 3.5,\n",
    "#         '리빙라스베가스': 3.0,\n",
    "#         '세계대전': 4.5,\n",
    "#         '넘버3': 4.0,\n",
    "#         '사랑과전쟁': 2.5,\n",
    "#     },\n",
    "#     '있지': {\n",
    "#         '택시운전사': 3.0,\n",
    "#         '겨울왕국': 4.0,\n",
    "#         '리빙라스베가스': 2.0,\n",
    "#         '넘버3': 3.0,\n",
    "#         '세계대전': 3.5,\n",
    "#         '사랑과전쟁': 2.0,\n",
    "#     },\n",
    "#     '백지영': {\n",
    "#         '택시운전사': 3.0,\n",
    "#         '겨울왕국': 4.0,\n",
    "#         '세계대전': 3.0,\n",
    "#         '넘버3': 5.0,\n",
    "#         '사랑과전쟁': 3.5,\n",
    "#     },\n",
    "#     '이은미': {'겨울왕국': 4.5, '사랑과전쟁': 1.0,\n",
    "#              '넘버3': 4.0},"
   ]
  }
 ],
 "metadata": {
  "kernelspec": {
   "display_name": "Python 3",
   "language": "python",
   "name": "python3"
  },
  "language_info": {
   "codemirror_mode": {
    "name": "ipython",
    "version": 3
   },
   "file_extension": ".py",
   "mimetype": "text/x-python",
   "name": "python",
   "nbconvert_exporter": "python",
   "pygments_lexer": "ipython3",
   "version": "3.6.5"
  }
 },
 "nbformat": 4,
 "nbformat_minor": 2
}
